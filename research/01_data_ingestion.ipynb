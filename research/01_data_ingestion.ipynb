{
 "cells": [
  {
   "cell_type": "code",
   "execution_count": 8,
   "metadata": {},
   "outputs": [],
   "source": [
    "import os"
   ]
  },
  {
   "cell_type": "markdown",
   "metadata": {},
   "source": [
    "## Data Ingestion Trial Notebook\n",
    "experiment here before running the data ingestion script:"
   ]
  },
  {
   "cell_type": "code",
   "execution_count": 26,
   "metadata": {},
   "outputs": [
    {
     "data": {
      "text/plain": [
       "'c:\\\\Users\\\\memor\\\\Documents\\\\MLProjects\\\\DataScience-w-Bappy\\\\MLOPs-Production-Ready-Deep-Learning-Project\\\\research'"
      ]
     },
     "execution_count": 26,
     "metadata": {},
     "output_type": "execute_result"
    }
   ],
   "source": [
    "# check current directory\n",
    "%pwd"
   ]
  },
  {
   "cell_type": "code",
   "execution_count": 32,
   "metadata": {},
   "outputs": [],
   "source": [
    "# Going one folder up\n",
    "os.chdir(\"../\")"
   ]
  },
  {
   "cell_type": "code",
   "execution_count": 33,
   "metadata": {},
   "outputs": [],
   "source": [
    "# Configuring the data class\n",
    "\n",
    "from dataclasses import dataclass\n",
    "from pathlib import Path\n",
    "\n",
    "\n",
    "# All values will be read in from the config.yaml file\n",
    "\n",
    "@dataclass(frozen=True)         # This is an Entity class\n",
    "class DataIngestionConfig:\n",
    "    root_dir: Path           # Path to the root directory\n",
    "    source_url: str             # URL of the source of dataset\n",
    "    local_data_file: Path       # Path to the local folder containing downloaded zip file\n",
    "    extract_dir: Path           # Path to the directory containing unzipped dataset\n",
    "    "
   ]
  },
  {
   "cell_type": "code",
   "execution_count": 34,
   "metadata": {},
   "outputs": [],
   "source": [
    "# Read constants from the *chest_xray_classifier/constants* file containing paths to \n",
    "# the config.yaml and params.yaml files\n",
    "\n",
    "from chest_xray_classifier.constants import *   # import all \n",
    "\n",
    "# Import the utilities from the *chest_xray_classifier/utils* package\n",
    "from chest_xray_classifier.utils.common import read_yaml, create_directories\n",
    "\n"
   ]
  },
  {
   "cell_type": "markdown",
   "metadata": {},
   "source": [
    "## Writing the Configuration manager file/class\n",
    "Inside which we pass the CONFIG_FILE_PATH, PARAMS_FILE_PATH variables\n",
    "and continue to construct the different pipelines\n",
    "* src\\chest_xray_classifier\\config\\configuration.py\n",
    "\n",
    "Will now be populated."
   ]
  },
  {
   "cell_type": "code",
   "execution_count": 36,
   "metadata": {},
   "outputs": [],
   "source": [
    "# Create draft Configuration Manager class\n",
    "class ConfigurationManager:\n",
    "    # constructor method\n",
    "    def __init__(\n",
    "        self,\n",
    "        config_file_path = CONFIG_FILE_PATH,\n",
    "        params_file_path = PARAMS_FILE_PATH):\n",
    "        \n",
    "        # Read in the config and params - yaml files\n",
    "        self.config = read_yaml(config_file_path)\n",
    "        self.params = read_yaml(params_file_path)\n",
    "        \n",
    "        # create the directories needed\n",
    "        create_directories([self.config.artifacts_root])\n",
    "        \n",
    "    def get_data_ingestion_config(self) -> DataIngestionConfig:\n",
    "        # intialize config.yaml data_ingestion entity\n",
    "        config = self.config.data_ingestion\n",
    "        \n",
    "        # create the resspective directories\n",
    "        data_ingestion_config = DataIngestionConfig(\n",
    "            root_dir=config.root_dir,\n",
    "            source_url=config.source_url,\n",
    "            local_data_file=config.local_data_file,\n",
    "            extract_dir=config.extract_dir,\n",
    "            # add other data ingestion config parameters if required by the project\n",
    "        )\n",
    "        \n",
    "        return data_ingestion_config\n",
    "        \n",
    "        "
   ]
  },
  {
   "cell_type": "markdown",
   "metadata": {},
   "source": [
    "## Implementing the Components\n",
    "Stating and using the different entity configurations classes e.g DataIngestion. e.g how data ingestion will be handled/happenning"
   ]
  },
  {
   "cell_type": "code",
   "execution_count": 37,
   "metadata": {},
   "outputs": [],
   "source": [
    "# import all necessary packages\n",
    "import os\n",
    "import zipfile\n",
    "import gdown\n",
    "from chest_xray_classifier import logger\n",
    "from chest_xray_classifier.utils.common import get_size\n"
   ]
  },
  {
   "cell_type": "code",
   "execution_count": 38,
   "metadata": {},
   "outputs": [],
   "source": [
    "# data ingestion pipeline\n",
    "class DataIngestion:\n",
    "    def __init__(self, config: DataIngestionConfig):\n",
    "        self.config = config\n",
    "        \n",
    "# download data from source\n",
    "def download_file(self)-> str:\n",
    "    '''\n",
    "    Fetch data from source/url\n",
    "    '''\n",
    "    \n",
    "    try:\n",
    "        dataset_url = self.config.source_url\n",
    "        zip_download_dir = self.config.local_data_file  # change this to local \n",
    "        #create directory if it doesn't exist for artifacts/dataingestion\n",
    "        os.makedirs(r\"artifacts/dataingestion\", exist_ok=True)\n",
    "        \n",
    "        logger.info(\"Downloading data from {dataset_url} into {zip_download_dir}\".format(dataset_url,zip_download_dir))        \n",
    "        \n",
    "        # Download from gdrive storage\n",
    "        file_id = dataset_url.split(\"/\")[-2]\n",
    "        # Construct the download URL\n",
    "        prefix_download_url = f\"https://drive.google.com/uc?id={file_id}&export=download\"\n",
    "\n",
    "        # Download the file into a local dir  # Change this to your desired file name and extension\n",
    "        gdown.download(prefix_download_url, zip_download_dir, quiet=False)\n",
    "        \n",
    "    except Exception as e:\n",
    "        raise e\n",
    "\n",
    "# Extract the the downloaded zip file\n",
    "def extract_zip(self):\n",
    "    '''\n",
    "    zip_file_path: str\n",
    "    Extracts zip file to the directory specified in extract_dir directory\n",
    "    Function returns None\n",
    "    '''\n",
    "    unzip_path = self.config.extract_dir\n",
    "    # create extract directory incase it doesn't exist\n",
    "    os.makedirs(unzip_path, exist_ok=True)\n",
    "    # read zip file and extract it\n",
    "    with zipfile.ZipFile(self.config.local_data_file, \"r\") as zip_file:\n",
    "        zipfile.extractall(self.config.extract_dir)\n",
    "        "
   ]
  },
  {
   "cell_type": "markdown",
   "metadata": {},
   "source": [
    "## Execute the Pipeline\n",
    "Put all pieces together"
   ]
  },
  {
   "cell_type": "code",
   "execution_count": null,
   "metadata": {},
   "outputs": [],
   "source": [
    "# use a try exception to catch any errors\n",
    "\n",
    "try:\n",
    "    config = ConfigurationManager()\n",
    "    data_ingestion_config = config.get_data_ingestion_config()\n",
    "    data_ingestion = DataIngestion(config=data_ingestion_config)\n",
    "    data_ingestion.download_file()\n",
    "    data_ingestion.extract_zip()\n",
    "except Exception as e:\n",
    "    raise e\n"
   ]
  }
 ],
 "metadata": {
  "kernelspec": {
   "display_name": "chest-image",
   "language": "python",
   "name": "python3"
  },
  "language_info": {
   "codemirror_mode": {
    "name": "ipython",
    "version": 3
   },
   "file_extension": ".py",
   "mimetype": "text/x-python",
   "name": "python",
   "nbconvert_exporter": "python",
   "pygments_lexer": "ipython3",
   "version": "3.8.19"
  }
 },
 "nbformat": 4,
 "nbformat_minor": 2
}
